{
 "cells": [
  {
   "cell_type": "code",
   "execution_count": 1,
   "metadata": {},
   "outputs": [
    {
     "name": "stdout",
     "output_type": "stream",
     "text": [
      "First few rows of the DataFrame:\n",
      "             timestamp  unit_id           unit_type empire_or_resistance  \\\n",
      "0  2025-03-18 11:43:54        1  resistance_soldier               empire   \n",
      "1  2025-03-18 11:43:53        2        tie_silencer           resistance   \n",
      "2  2025-03-18 11:43:52        3               at-at           resistance   \n",
      "3  2025-03-18 11:43:51        4             unknown           resistance   \n",
      "4  2025-03-18 11:43:50        5  resistance_soldier           resistance   \n",
      "\n",
      "   location_x  location_y  destination_x  destination_y    homeworld  \n",
      "0           6           6              3              8      Stewjon  \n",
      "1           2           1              5              9     Dathomir  \n",
      "2           6           6              5              7        Kalee  \n",
      "3           5           9              7              6  Glee Anselm  \n",
      "4           1           5             10              7       Ryloth  \n"
     ]
    }
   ],
   "source": [
    "# NOTE: Run 'python generate_data.py' before executing notebook to generate 'troop_movements.csv' file\n",
    "\n",
    "import pandas as pd\n",
    "import numpy as np\n",
    "\n",
    "data = pd.read_csv('troop_movements.csv')\n",
    "\n",
    "print(\"First few rows of the DataFrame:\")\n",
    "print(data.head())"
   ]
  },
  {
   "cell_type": "code",
   "execution_count": 2,
   "metadata": {},
   "outputs": [
    {
     "name": "stdout",
     "output_type": "stream",
     "text": [
      "\n",
      "Sorting the DataFrame by empire_or_resistance:\n",
      "  empire_or_resistance  count\n",
      "0           resistance    510\n",
      "1               empire    490\n"
     ]
    }
   ],
   "source": [
    "#Showing Counts of Empire vs. Resistance\n",
    "df_Count = pd.DataFrame(data)\n",
    "\n",
    "print(\"\\nSorting the DataFrame by empire_or_resistance:\")\n",
    "value_counts = df_Count['empire_or_resistance'].value_counts().reset_index()\n",
    "\n",
    "print(value_counts.head())"
   ]
  },
  {
   "cell_type": "code",
   "execution_count": 3,
   "metadata": {},
   "outputs": [
    {
     "name": "stdout",
     "output_type": "stream",
     "text": [
      "Counts of characters by unit_type unit_type\n",
      "at-at                 116\n",
      "at-st                 128\n",
      "resistance_soldier    118\n",
      "stormtrooper          130\n",
      "tie_fighter           113\n",
      "tie_silencer          120\n",
      "unknown               135\n",
      "x-wing                140\n",
      "dtype: int64\n"
     ]
    }
   ],
   "source": [
    "unit_type_counts_size = data.groupby('unit_type').size()\n",
    "print(\"Counts of characters by unit_type\", unit_type_counts_size)\n"
   ]
  },
  {
   "cell_type": "code",
   "execution_count": 5,
   "metadata": {},
   "outputs": [
    {
     "name": "stdout",
     "output_type": "stream",
     "text": [
      "\n",
      "Sorting the DataFrame by homeworld:\n",
      "homeworld\n",
      "Alderaan        27\n",
      "Aleen Minor     24\n",
      "Bestine IV      19\n",
      "Cerea           17\n",
      "Champala        22\n",
      "Chandrila       22\n",
      "Concord Dawn    23\n",
      "Corellia        21\n",
      "Dagobah         21\n",
      "Dathomir        26\n",
      "Dorin           29\n",
      "Eriadu          15\n",
      "Glee Anselm     24\n",
      "Haruun Kal      20\n",
      "Iktotch         34\n",
      "Iridonia        20\n",
      "Kalee           36\n",
      "Kashyyyk        28\n",
      "Malastare       26\n",
      "Mirial          19\n",
      "Mon Cala        21\n",
      "Muunilinst      25\n",
      "Naboo           24\n",
      "Ojom            26\n",
      "Quermia         25\n",
      "Rodia           32\n",
      "Ryloth          21\n",
      "Serenno         22\n",
      "Shili           21\n",
      "Skako           27\n",
      "Socorro         23\n",
      "Stewjon         21\n",
      "Sullust         23\n",
      "Tatooine        32\n",
      "Tholoth         21\n",
      "Toydaria        18\n",
      "Trandosha       20\n",
      "Troiken         26\n",
      "Tund            24\n",
      "Umbara          31\n",
      "Vulpter         20\n",
      "Zolan           24\n",
      "dtype: int64\n"
     ]
    }
   ],
   "source": [
    "#Showing Counts of Characters By Homeworld\n",
    "\n",
    "print(\"\\nSorting the DataFrame by homeworld:\")\n",
    "value_counts2 = data.groupby('homeworld').size()\n",
    "\n",
    "print(value_counts2)\n"
   ]
  },
  {
   "cell_type": "code",
   "execution_count": 6,
   "metadata": {},
   "outputs": [
    {
     "name": "stdout",
     "output_type": "stream",
     "text": [
      "             timestamp  unit_id           unit_type empire_or_resistance  \\\n",
      "0  2025-03-18 11:43:54        1  resistance_soldier               empire   \n",
      "1  2025-03-18 11:43:53        2        tie_silencer           resistance   \n",
      "2  2025-03-18 11:43:52        3               at-at           resistance   \n",
      "3  2025-03-18 11:43:51        4             unknown           resistance   \n",
      "4  2025-03-18 11:43:50        5  resistance_soldier           resistance   \n",
      "\n",
      "   location_x  location_y  destination_x  destination_y    homeworld  \\\n",
      "0           6           6              3              8      Stewjon   \n",
      "1           2           1              5              9     Dathomir   \n",
      "2           6           6              5              7        Kalee   \n",
      "3           5           9              7              6  Glee Anselm   \n",
      "4           1           5             10              7       Ryloth   \n",
      "\n",
      "   is_resistance  \n",
      "0          False  \n",
      "1           True  \n",
      "2           True  \n",
      "3           True  \n",
      "4           True  \n"
     ]
    }
   ],
   "source": [
    "def is_resistance(row):\n",
    "        if row['empire_or_resistance'] == \"resistance\":\n",
    "            return True\n",
    "        else:\n",
    "            return False\n",
    "data['is_resistance'] = data.apply(is_resistance, axis=1)\n",
    "print(data.head())"
   ]
  },
  {
   "cell_type": "code",
   "execution_count": 7,
   "metadata": {},
   "outputs": [
    {
     "name": "stdout",
     "output_type": "stream",
     "text": [
      "Defaulting to user installation because normal site-packages is not writeable\n",
      "Requirement already satisfied: seaborn in c:\\users\\wasadmin\\appdata\\roaming\\python\\python312\\site-packages (0.13.2)\n",
      "Requirement already satisfied: numpy!=1.24.0,>=1.20 in c:\\users\\wasadmin\\appdata\\roaming\\python\\python312\\site-packages (from seaborn) (1.26.4)\n",
      "Requirement already satisfied: pandas>=1.2 in c:\\users\\wasadmin\\appdata\\roaming\\python\\python312\\site-packages (from seaborn) (2.2.2)\n",
      "Requirement already satisfied: matplotlib!=3.6.1,>=3.4 in c:\\users\\wasadmin\\appdata\\roaming\\python\\python312\\site-packages (from seaborn) (3.10.1)\n",
      "Requirement already satisfied: contourpy>=1.0.1 in c:\\users\\wasadmin\\appdata\\roaming\\python\\python312\\site-packages (from matplotlib!=3.6.1,>=3.4->seaborn) (1.3.1)\n",
      "Requirement already satisfied: cycler>=0.10 in c:\\users\\wasadmin\\appdata\\roaming\\python\\python312\\site-packages (from matplotlib!=3.6.1,>=3.4->seaborn) (0.12.1)\n",
      "Requirement already satisfied: fonttools>=4.22.0 in c:\\users\\wasadmin\\appdata\\roaming\\python\\python312\\site-packages (from matplotlib!=3.6.1,>=3.4->seaborn) (4.56.0)\n",
      "Requirement already satisfied: kiwisolver>=1.3.1 in c:\\users\\wasadmin\\appdata\\roaming\\python\\python312\\site-packages (from matplotlib!=3.6.1,>=3.4->seaborn) (1.4.8)\n",
      "Requirement already satisfied: packaging>=20.0 in c:\\users\\wasadmin\\appdata\\roaming\\python\\python312\\site-packages (from matplotlib!=3.6.1,>=3.4->seaborn) (24.0)\n",
      "Requirement already satisfied: pillow>=8 in c:\\users\\wasadmin\\appdata\\roaming\\python\\python312\\site-packages (from matplotlib!=3.6.1,>=3.4->seaborn) (11.1.0)\n",
      "Requirement already satisfied: pyparsing>=2.3.1 in c:\\users\\wasadmin\\appdata\\roaming\\python\\python312\\site-packages (from matplotlib!=3.6.1,>=3.4->seaborn) (3.2.1)\n",
      "Requirement already satisfied: python-dateutil>=2.7 in c:\\users\\wasadmin\\appdata\\roaming\\python\\python312\\site-packages (from matplotlib!=3.6.1,>=3.4->seaborn) (2.9.0.post0)\n",
      "Requirement already satisfied: pytz>=2020.1 in c:\\users\\wasadmin\\appdata\\roaming\\python\\python312\\site-packages (from pandas>=1.2->seaborn) (2024.1)\n",
      "Requirement already satisfied: tzdata>=2022.7 in c:\\users\\wasadmin\\appdata\\roaming\\python\\python312\\site-packages (from pandas>=1.2->seaborn) (2024.1)\n",
      "Requirement already satisfied: six>=1.5 in c:\\users\\wasadmin\\appdata\\roaming\\python\\python312\\site-packages (from python-dateutil>=2.7->matplotlib!=3.6.1,>=3.4->seaborn) (1.16.0)\n"
     ]
    },
    {
     "name": "stderr",
     "output_type": "stream",
     "text": [
      "\n",
      "[notice] A new release of pip is available: 24.0 -> 25.0.1\n",
      "[notice] To update, run: python.exe -m pip install --upgrade pip\n"
     ]
    },
    {
     "name": "stdout",
     "output_type": "stream",
     "text": [
      "Defaulting to user installation because normal site-packages is not writeable"
     ]
    },
    {
     "name": "stderr",
     "output_type": "stream",
     "text": [
      "\n",
      "[notice] A new release of pip is available: 24.0 -> 25.0.1\n",
      "[notice] To update, run: python.exe -m pip install --upgrade pip\n"
     ]
    },
    {
     "name": "stdout",
     "output_type": "stream",
     "text": [
      "\n",
      "Requirement already satisfied: matplotlib in c:\\users\\wasadmin\\appdata\\roaming\\python\\python312\\site-packages (3.10.1)\n",
      "Requirement already satisfied: contourpy>=1.0.1 in c:\\users\\wasadmin\\appdata\\roaming\\python\\python312\\site-packages (from matplotlib) (1.3.1)\n",
      "Requirement already satisfied: cycler>=0.10 in c:\\users\\wasadmin\\appdata\\roaming\\python\\python312\\site-packages (from matplotlib) (0.12.1)\n",
      "Requirement already satisfied: fonttools>=4.22.0 in c:\\users\\wasadmin\\appdata\\roaming\\python\\python312\\site-packages (from matplotlib) (4.56.0)\n",
      "Requirement already satisfied: kiwisolver>=1.3.1 in c:\\users\\wasadmin\\appdata\\roaming\\python\\python312\\site-packages (from matplotlib) (1.4.8)\n",
      "Requirement already satisfied: numpy>=1.23 in c:\\users\\wasadmin\\appdata\\roaming\\python\\python312\\site-packages (from matplotlib) (1.26.4)\n",
      "Requirement already satisfied: packaging>=20.0 in c:\\users\\wasadmin\\appdata\\roaming\\python\\python312\\site-packages (from matplotlib) (24.0)\n",
      "Requirement already satisfied: pillow>=8 in c:\\users\\wasadmin\\appdata\\roaming\\python\\python312\\site-packages (from matplotlib) (11.1.0)\n",
      "Requirement already satisfied: pyparsing>=2.3.1 in c:\\users\\wasadmin\\appdata\\roaming\\python\\python312\\site-packages (from matplotlib) (3.2.1)\n",
      "Requirement already satisfied: python-dateutil>=2.7 in c:\\users\\wasadmin\\appdata\\roaming\\python\\python312\\site-packages (from matplotlib) (2.9.0.post0)\n",
      "Requirement already satisfied: six>=1.5 in c:\\users\\wasadmin\\appdata\\roaming\\python\\python312\\site-packages (from python-dateutil>=2.7->matplotlib) (1.16.0)\n"
     ]
    }
   ],
   "source": [
    "! pip install seaborn\n",
    "! pip install matplotlib"
   ]
  },
  {
   "cell_type": "code",
   "execution_count": 8,
   "metadata": {},
   "outputs": [
    {
     "data": {
      "image/png": "[encoded data removed]",
      "text/plain": [
       "<Figure size 640x480 with 1 Axes>"
      ]
     },
     "metadata": {},
     "output_type": "display_data"
    }
   ],
   "source": [
    "import seaborn as sns\n",
    "import matplotlib.pyplot as plt\n",
    "\n",
    "\n",
    "sns.set_theme(style=\"whitegrid\")\n",
    "\n",
    "sns.countplot(data=data, x=\"empire_or_resistance\", hue= \"empire_or_resistance\")\n",
    "plt.title('Character Count by Empire or Resistance')\n",
    "plt.xlabel('Empire or Resistance')\n",
    "plt.ylabel('Count')\n",
    "plt.show()"
   ]
  },
  {
   "cell_type": "code",
   "execution_count": 9,
   "metadata": {},
   "outputs": [],
   "source": [
    "from sklearn.model_selection import train_test_split\n",
    "from sklearn.preprocessing import OneHotEncoder, StandardScaler\n",
    "from sklearn.compose import ColumnTransformer\n",
    "from sklearn.pipeline import Pipeline\n",
    "from sklearn.metrics import accuracy_score\n",
    "from sklearn.tree import DecisionTreeClassifier\n",
    "\n",
    "\n",
    "X = data[['unit_type', 'homeworld']]  # Features: unit_type, homeworld\n",
    "y = data['is_resistance']  # Target variable\n",
    "\n",
    "\n",
    "categorical_features = ['unit_type', 'homeworld']\n",
    "categorical_transformer = Pipeline(steps=[\n",
    "    ('encoder', OneHotEncoder())\n",
    "])"
   ]
  },
  {
   "cell_type": "code",
   "execution_count": 10,
   "metadata": {},
   "outputs": [],
   "source": [
    "preprocessor = ColumnTransformer(\n",
    "    transformers=[\n",
    "        ('cat', categorical_transformer, categorical_features)\n",
    "    ])\n",
    "\n",
    "\n",
    "decision_tree_pipeline = Pipeline(steps=[\n",
    "    ('preprocessor', preprocessor),\n",
    "    ('classifier', DecisionTreeClassifier())\n",
    "])"
   ]
  },
  {
   "cell_type": "code",
   "execution_count": 11,
   "metadata": {},
   "outputs": [
    {
     "name": "stdout",
     "output_type": "stream",
     "text": [
      "Accuracy: 0.685\n"
     ]
    }
   ],
   "source": [
    "X_train, X_test, y_train, y_test = train_test_split(X, y, test_size=0.2, random_state=42)\n",
    "\n",
    "\n",
    "decision_tree_pipeline.fit(X_train, y_train)\n",
    "\n",
    "\n",
    "y_pred = decision_tree_pipeline.predict(X_test)\n",
    "\n",
    "\n",
    "accuracy = accuracy_score(y_test, y_pred)\n",
    "print(\"Accuracy:\", accuracy)"
   ]
  },
  {
   "cell_type": "code",
   "execution_count": 12,
   "metadata": {},
   "outputs": [
    {
     "name": "stdout",
     "output_type": "stream",
     "text": [
      "First rows of categorical features AS NUMERICS: \n",
      "    unit_type_at-at  unit_type_at-st  unit_type_resistance_soldier  \\\n",
      "0            False            False                          True   \n",
      "1            False            False                         False   \n",
      "2             True            False                         False   \n",
      "3            False            False                         False   \n",
      "4            False            False                          True   \n",
      "\n",
      "   unit_type_stormtrooper  unit_type_tie_fighter  unit_type_tie_silencer  \\\n",
      "0                   False                  False                   False   \n",
      "1                   False                  False                    True   \n",
      "2                   False                  False                   False   \n",
      "3                   False                  False                   False   \n",
      "4                   False                  False                   False   \n",
      "\n",
      "   unit_type_unknown  unit_type_x-wing  homeworld_Alderaan  \\\n",
      "0              False             False               False   \n",
      "1              False             False               False   \n",
      "2              False             False               False   \n",
      "3               True             False               False   \n",
      "4              False             False               False   \n",
      "\n",
      "   homeworld_Aleen Minor  ...  homeworld_Sullust  homeworld_Tatooine  \\\n",
      "0                  False  ...              False               False   \n",
      "1                  False  ...              False               False   \n",
      "2                  False  ...              False               False   \n",
      "3                  False  ...              False               False   \n",
      "4                  False  ...              False               False   \n",
      "\n",
      "   homeworld_Tholoth  homeworld_Toydaria  homeworld_Trandosha  \\\n",
      "0              False               False                False   \n",
      "1              False               False                False   \n",
      "2              False               False                False   \n",
      "3              False               False                False   \n",
      "4              False               False                False   \n",
      "\n",
      "   homeworld_Troiken  homeworld_Tund  homeworld_Umbara  homeworld_Vulpter  \\\n",
      "0              False           False             False              False   \n",
      "1              False           False             False              False   \n",
      "2              False           False             False              False   \n",
      "3              False           False             False              False   \n",
      "4              False           False             False              False   \n",
      "\n",
      "   homeworld_Zolan  \n",
      "0            False  \n",
      "1            False  \n",
      "2            False  \n",
      "3            False  \n",
      "4            False  \n",
      "\n",
      "[5 rows x 50 columns]\n"
     ]
    }
   ],
   "source": [
    "# Converting categorical features to numerics\n",
    "X_encoded = pd.get_dummies(X)\n",
    "print(\"First rows of categorical features AS NUMERICS: \\n\", X_encoded.head())\n"
   ]
  },
  {
   "cell_type": "code",
   "execution_count": 13,
   "metadata": {},
   "outputs": [
    {
     "name": "stdout",
     "output_type": "stream",
     "text": [
      "Printing head of feature importances \n",
      "                         Feature  Importance\n",
      "0               unit_type_at-at    0.075344\n",
      "1               unit_type_at-st    0.033215\n",
      "2  unit_type_resistance_soldier    0.045519\n",
      "3        unit_type_stormtrooper    0.052680\n",
      "4         unit_type_tie_fighter    0.035347\n"
     ]
    }
   ],
   "source": [
    "# Get Feature Importance From numerics\n",
    "\n",
    "# Get feature importances\n",
    "importances = decision_tree_pipeline.named_steps['classifier'].feature_importances_\n",
    "\n",
    "# Create a DataFrame to hold the feature importances\n",
    "feature_importances = pd.DataFrame({'Feature': X_encoded.columns, 'Importance': importances})\n",
    "print(\"Printing head of feature importances \\n\", feature_importances.head())"
   ]
  },
  {
   "cell_type": "code",
   "execution_count": 14,
   "metadata": {},
   "outputs": [
    {
     "name": "stdout",
     "output_type": "stream",
     "text": [
      "Printing first rows of feature importances - SORTED: \n",
      "                          Feature  Importance\n",
      "0                unit_type_at-at    0.075344\n",
      "3         unit_type_stormtrooper    0.052680\n",
      "29          homeworld_Muunilinst    0.047031\n",
      "2   unit_type_resistance_soldier    0.045519\n",
      "8             homeworld_Alderaan    0.039142\n"
     ]
    },
    {
     "name": "stderr",
     "output_type": "stream",
     "text": [
      "C:\\Users\\wasadmin\\AppData\\Local\\Temp\\2\\ipykernel_6148\\1846015147.py:9: UserWarning: set_ticklabels() should only be used with a fixed number of ticks, i.e. after set_ticks() or using a FixedLocator.\n",
      "  barplot.set_xticklabels(barplot.get_xticklabels(), rotation=90, horizontalalignment='right')\n"
     ]
    },
    {
     "data": {
      "image/png": "[encoded data removed]",
      "text/plain": [
       "<Figure size 640x480 with 1 Axes>"
      ]
     },
     "metadata": {},
     "output_type": "display_data"
    }
   ],
   "source": [
    "# Sort Feature Importance\n",
    "sorted_importances = feature_importances.sort_values(by='Importance', ascending=False)\n",
    "print(\"Printing first rows of feature importances - SORTED: \\n\", sorted_importances.head())\n",
    "\n",
    "# Create boxplot using feature importance\n",
    "barplot = sns.barplot(sorted_importances, x=\"Feature\", y=\"Importance\")\n",
    "\n",
    "# Rotate x-axis label\n",
    "barplot.set_xticklabels(barplot.get_xticklabels(), rotation=90, horizontalalignment='right')\n",
    "\n",
    "# Add title to plot\n",
    "plt.title(\"Feature Importance\")\n",
    "\n",
    "# Adjust layout to prevent labels from overlapping\n",
    "plt.tight_layout()\n",
    "\n",
    "# Show the plot\n",
    "plt.show()"
   ]
  },
  {
   "cell_type": "code",
   "execution_count": 15,
   "metadata": {},
   "outputs": [],
   "source": [
    "# Save model to pickle file\n",
    "import pickle\n",
    "\n",
    "# Specify the file path to save the pipeline\n",
    "file_path = 'trained_model.pkl'\n",
    "\n",
    "# Save the pipeline to disk\n",
    "with open(file_path, 'wb') as file:\n",
    "    pickle.dump(decision_tree_pipeline, file)"
   ]
  },
  {
   "cell_type": "code",
   "execution_count": 16,
   "metadata": {},
   "outputs": [
    {
     "name": "stdout",
     "output_type": "stream",
     "text": [
      "First few rows of the DataFrame:\n",
      "             timestamp  unit_id     unit_type  location_x  location_y  \\\n",
      "0  2023-06-03 03:19:15   919214  tie_silencer         2.0         5.0   \n",
      "1  2023-02-24 13:50:40  9467154  stormtrooper         9.0         0.0   \n",
      "2  2023-03-29 19:54:55  6585778  tie_silencer         0.0         6.0   \n",
      "3  2023-04-30 00:58:11  3878023  tie_silencer         4.0         2.0   \n",
      "4  2023-04-10 22:00:26  5537117         at-st         6.0         8.0   \n",
      "\n",
      "   destination_x  destination_y    homeworld  \n",
      "0              9              3  Aleen Minor  \n",
      "1              9              1    Malastare  \n",
      "2              5              9      Serenno  \n",
      "3              9              9         Tund  \n",
      "4              5              8        Skako  \n"
     ]
    }
   ],
   "source": [
    "real_data = pd.read_csv('troop_movements_1m.csv')\n",
    "\n",
    "print(\"First few rows of the DataFrame:\")\n",
    "print(real_data.head())"
   ]
  },
  {
   "cell_type": "code",
   "execution_count": 17,
   "metadata": {},
   "outputs": [],
   "source": [
    "real_data['unit_type'] = real_data['unit_type'].apply(lambda x: \"unknown\" if x == \"invalid_unit\" else x)\n",
    "real_data['location_x'] = real_data['location_x'].ffill()\n",
    "real_data['location_y'] = real_data['location_y'].ffill()"
   ]
  },
  {
   "cell_type": "code",
   "execution_count": 18,
   "metadata": {},
   "outputs": [
    {
     "name": "stdout",
     "output_type": "stream",
     "text": [
      "Defaulting to user installation because normal site-packages is not writeable\n",
      "Requirement already satisfied: pyarrow in c:\\users\\wasadmin\\appdata\\roaming\\python\\python312\\site-packages (19.0.1)\n"
     ]
    },
    {
     "name": "stderr",
     "output_type": "stream",
     "text": [
      "\n",
      "[notice] A new release of pip is available: 24.0 -> 25.0.1\n",
      "[notice] To update, run: python.exe -m pip install --upgrade pip\n"
     ]
    },
    {
     "name": "stdout",
     "output_type": "stream",
     "text": [
      "Defaulting to user installation because normal site-packages is not writeable\n",
      "Requirement already satisfied: fastparquet in c:\\users\\wasadmin\\appdata\\roaming\\python\\python312\\site-packages (2024.11.0)\n",
      "Requirement already satisfied: pandas>=1.5.0 in c:\\users\\wasadmin\\appdata\\roaming\\python\\python312\\site-packages (from fastparquet) (2.2.2)\n",
      "Requirement already satisfied: numpy in c:\\users\\wasadmin\\appdata\\roaming\\python\\python312\\site-packages (from fastparquet) (1.26.4)\n",
      "Requirement already satisfied: cramjam>=2.3 in c:\\users\\wasadmin\\appdata\\roaming\\python\\python312\\site-packages (from fastparquet) (2.9.1)\n",
      "Requirement already satisfied: fsspec in c:\\users\\wasadmin\\appdata\\roaming\\python\\python312\\site-packages (from fastparquet) (2025.3.0)\n",
      "Requirement already satisfied: packaging in c:\\users\\wasadmin\\appdata\\roaming\\python\\python312\\site-packages (from fastparquet) (24.0)\n",
      "Requirement already satisfied: python-dateutil>=2.8.2 in c:\\users\\wasadmin\\appdata\\roaming\\python\\python312\\site-packages (from pandas>=1.5.0->fastparquet) (2.9.0.post0)\n",
      "Requirement already satisfied: pytz>=2020.1 in c:\\users\\wasadmin\\appdata\\roaming\\python\\python312\\site-packages (from pandas>=1.5.0->fastparquet) (2024.1)\n",
      "Requirement already satisfied: tzdata>=2022.7 in c:\\users\\wasadmin\\appdata\\roaming\\python\\python312\\site-packages (from pandas>=1.5.0->fastparquet) (2024.1)\n",
      "Requirement already satisfied: six>=1.5 in c:\\users\\wasadmin\\appdata\\roaming\\python\\python312\\site-packages (from python-dateutil>=2.8.2->pandas>=1.5.0->fastparquet) (1.16.0)\n"
     ]
    },
    {
     "name": "stderr",
     "output_type": "stream",
     "text": [
      "\n",
      "[notice] A new release of pip is available: 24.0 -> 25.0.1\n",
      "[notice] To update, run: python.exe -m pip install --upgrade pip\n"
     ]
    }
   ],
   "source": [
    "! pip install pyarrow\n",
    "! pip install fastparquet"
   ]
  },
  {
   "cell_type": "code",
   "execution_count": 19,
   "metadata": {},
   "outputs": [],
   "source": [
    "real_data.to_parquet('troop_movements_1m.parquet', engine='pyarrow')"
   ]
  },
  {
   "cell_type": "code",
   "execution_count": 20,
   "metadata": {},
   "outputs": [
    {
     "name": "stdout",
     "output_type": "stream",
     "text": [
      "             timestamp  unit_id     unit_type  location_x  location_y  \\\n",
      "0  2023-06-03 03:19:15   919214  tie_silencer         2.0         5.0   \n",
      "1  2023-02-24 13:50:40  9467154  stormtrooper         9.0         0.0   \n",
      "2  2023-03-29 19:54:55  6585778  tie_silencer         0.0         6.0   \n",
      "3  2023-04-30 00:58:11  3878023  tie_silencer         4.0         2.0   \n",
      "4  2023-04-10 22:00:26  5537117         at-st         6.0         8.0   \n",
      "\n",
      "   destination_x  destination_y    homeworld  \n",
      "0              9              3  Aleen Minor  \n",
      "1              9              1    Malastare  \n",
      "2              5              9      Serenno  \n",
      "3              9              9         Tund  \n",
      "4              5              8        Skako  \n"
     ]
    }
   ],
   "source": [
    "final_data = pd.read_parquet('troop_movements_1m.parquet', engine='pyarrow')\n",
    "print(final_data.head())"
   ]
  },
  {
   "cell_type": "code",
   "execution_count": 21,
   "metadata": {},
   "outputs": [],
   "source": [
    "import pickle \n",
    "with open('trained_model.pkl', 'rb') as file:\n",
    "        loaded_model = pickle.load(file)"
   ]
  },
  {
   "cell_type": "code",
   "execution_count": 22,
   "metadata": {},
   "outputs": [
    {
     "name": "stdout",
     "output_type": "stream",
     "text": [
      "[False False False ...  True False False]\n"
     ]
    }
   ],
   "source": [
    "final_data_X = final_data[['unit_type', 'homeworld']]\n",
    "is_resistance_preds = loaded_model.predict(final_data_X)\n",
    "print(is_resistance_preds)"
   ]
  },
  {
   "cell_type": "code",
   "execution_count": 23,
   "metadata": {},
   "outputs": [
    {
     "name": "stdout",
     "output_type": "stream",
     "text": [
      "             timestamp  unit_id     unit_type  location_x  location_y  \\\n",
      "0  2023-06-03 03:19:15   919214  tie_silencer         2.0         5.0   \n",
      "1  2023-02-24 13:50:40  9467154  stormtrooper         9.0         0.0   \n",
      "2  2023-03-29 19:54:55  6585778  tie_silencer         0.0         6.0   \n",
      "3  2023-04-30 00:58:11  3878023  tie_silencer         4.0         2.0   \n",
      "4  2023-04-10 22:00:26  5537117         at-st         6.0         8.0   \n",
      "\n",
      "   destination_x  destination_y    homeworld  predictions  \n",
      "0              9              3  Aleen Minor        False  \n",
      "1              9              1    Malastare        False  \n",
      "2              5              9      Serenno        False  \n",
      "3              9              9         Tund        False  \n",
      "4              5              8        Skako        False  \n"
     ]
    }
   ],
   "source": [
    "final_data['predictions'] = is_resistance_preds\n",
    "print(final_data.head())"
   ]
  }
 ],
 "metadata": {
  "kernelspec": {
   "display_name": "Python 3",
   "language": "python",
   "name": "python3"
  },
  "language_info": {
   "codemirror_mode": {
    "name": "ipython",
    "version": 3
   },
   "file_extension": ".py",
   "mimetype": "text/x-python",
   "name": "python",
   "nbconvert_exporter": "python",
   "pygments_lexer": "ipython3",
   "version": "3.12.3"
  }
 },
 "nbformat": 4,
 "nbformat_minor": 2
}
