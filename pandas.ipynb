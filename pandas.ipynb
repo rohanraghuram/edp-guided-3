{
 "cells": [
  {
   "cell_type": "code",
   "execution_count": 1,
   "metadata": {},
   "outputs": [
    {
     "name": "stdout",
     "output_type": "stream",
     "text": [
      "First few rows of the DataFrame:\n",
      "             timestamp  unit_id     unit_type empire_or_resistance  \\\n",
      "0  2025-03-17 16:28:52        1  stormtrooper           resistance   \n",
      "1  2025-03-17 16:28:51        2   tie_fighter               empire   \n",
      "2  2025-03-17 16:28:50        3  stormtrooper           resistance   \n",
      "3  2025-03-17 16:28:49        4  stormtrooper           resistance   \n",
      "4  2025-03-17 16:28:48        5   tie_fighter           resistance   \n",
      "\n",
      "   location_x  location_y  destination_x  destination_y homeworld  \n",
      "0           3           7              7              2   Tholoth  \n",
      "1           7           6              3              5     Skako  \n",
      "2           6           8              7              5  Alderaan  \n",
      "3           4           7              9              5   Iktotch  \n",
      "4           5          10             10              5  Dathomir  \n"
     ]
    }
   ],
   "source": [
    "import pandas as pd\n",
    "import numpy as np\n",
    "\n",
    "data = pd.read_csv('troop_movements.csv')\n",
    "\n",
    "print(\"First few rows of the DataFrame:\")\n",
    "print(data.head())"
   ]
  },
  {
   "cell_type": "code",
   "execution_count": null,
   "metadata": {},
   "outputs": [],
   "source": []
  }
 ],
 "metadata": {
  "kernelspec": {
   "display_name": "Python 3",
   "language": "python",
   "name": "python3"
  },
  "language_info": {
   "codemirror_mode": {
    "name": "ipython",
    "version": 3
   },
   "file_extension": ".py",
   "mimetype": "text/x-python",
   "name": "python",
   "nbconvert_exporter": "python",
   "pygments_lexer": "ipython3",
   "version": "3.12.3"
  }
 },
 "nbformat": 4,
 "nbformat_minor": 2
}
