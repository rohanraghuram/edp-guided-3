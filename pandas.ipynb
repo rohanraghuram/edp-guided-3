{
 "cells": [
  {
   "cell_type": "code",
   "execution_count": null,
   "metadata": {},
   "outputs": [],
   "source": [
    "# NOTE: Run 'python generate_data.py' before executing notebook to generate 'troop_movements.csv' file\n",
    "\n",
    "import pandas as pd\n",
    "import numpy as np\n",
    "\n",
    "data = pd.read_csv('troop_movements.csv')\n",
    "\n",
    "print(\"First few rows of the DataFrame:\")\n",
    "print(data.head())"
   ]
  },
  {
   "cell_type": "code",
   "execution_count": null,
   "metadata": {},
   "outputs": [],
   "source": [
    "#Showing Counts of Empire vs. Resistance\n",
    "df_Count = pd.DataFrame(data)\n",
    "\n",
    "print(\"\\nSorting the DataFrame by empire_or_resistance:\")\n",
    "value_counts = df_Count['empire_or_resistance'].value_counts().reset_index()\n",
    "\n",
    "print(value_counts.head())"
   ]
  },
  {
   "cell_type": "code",
   "execution_count": null,
   "metadata": {},
   "outputs": [],
   "source": [
    "unit_type_counts_size = data.groupby('unit_type').size()\n",
    "print(\"Counts of characters by unit_type\", unit_type_counts_size)\n"
   ]
  },
  {
   "cell_type": "code",
   "execution_count": null,
   "metadata": {},
   "outputs": [],
   "source": [
    "#Showing Counts of Characters By Homeworld\n",
    "df_Count = pd.DataFrame(data)\n",
    "\n",
    "print(\"\\nSorting the DataFrame by homeworld:\")\n",
    "value_counts2 = df_Count['homeworld'].value_counts(ascending=True).reset_index()\n",
    "\n",
    "print(value_counts2.head())\n"
   ]
  },
  {
   "cell_type": "code",
   "execution_count": null,
   "metadata": {},
   "outputs": [],
   "source": [
    "def is_resistance(row):\n",
    "        if row['empire_or_resistance'] == \"resistance\":\n",
    "            return True\n",
    "        else:\n",
    "            return False\n",
    "data['is_resistance'] = data.apply(is_resistance, axis=1)\n",
    "print(data.head())"
   ]
  },
  {
   "cell_type": "code",
   "execution_count": null,
   "metadata": {},
   "outputs": [],
   "source": [
    "! pip install seaborn\n",
    "! pip install matplotlib"
   ]
  },
  {
   "cell_type": "code",
   "execution_count": null,
   "metadata": {},
   "outputs": [],
   "source": [
    "import seaborn as sns\n",
    "import matplotlib.pyplot as plt\n",
    "\n",
    "\n",
    "sns.set_theme(style=\"whitegrid\")\n",
    "\n",
    "sns.countplot(data=data, x=\"empire_or_resistance\", hue= \"empire_or_resistance\")\n",
    "plt.title('Character Count by Empire or Resistance')\n",
    "plt.xlabel('Empire or Resistance')\n",
    "plt.ylabel('Count')\n",
    "plt.show()"
   ]
  },
  {
   "cell_type": "code",
   "execution_count": null,
   "metadata": {},
   "outputs": [],
   "source": [
    "from sklearn.model_selection import train_test_split\n",
    "from sklearn.preprocessing import OneHotEncoder, StandardScaler\n",
    "from sklearn.compose import ColumnTransformer\n",
    "from sklearn.pipeline import Pipeline\n",
    "from sklearn.metrics import accuracy_score\n",
    "from sklearn.tree import DecisionTreeClassifier\n",
    "\n",
    "\n",
    "X = data[['unit_type', 'homeworld']]  # Features: Unit_Type, Homeworld\n",
    "y = data['empire_or_resistance']  # Target variable\n",
    "\n",
    "\n",
    "categorical_features = ['unit_type', 'homeworld']\n",
    "categorical_transformer = Pipeline(steps=[\n",
    "    ('encoder', OneHotEncoder())\n",
    "])"
   ]
  },
  {
   "cell_type": "code",
   "execution_count": null,
   "metadata": {},
   "outputs": [],
   "source": [
    "preprocessor = ColumnTransformer(\n",
    "    transformers=[\n",
    "        ('cat', categorical_transformer, categorical_features)\n",
    "    ])\n",
    "\n",
    "\n",
    "decision_tree_pipeline = Pipeline(steps=[\n",
    "    ('preprocessor', preprocessor),\n",
    "    ('classifier', DecisionTreeClassifier())\n",
    "])"
   ]
  },
  {
   "cell_type": "code",
   "execution_count": null,
   "metadata": {},
   "outputs": [],
   "source": [
    "X_train, X_test, y_train, y_test = train_test_split(X, y, test_size=0.2, random_state=42)\n",
    "\n",
    "\n",
    "decision_tree_pipeline.fit(X_train, y_train)\n",
    "\n",
    "\n",
    "y_pred = decision_tree_pipeline.predict(X_test)\n",
    "\n",
    "\n",
    "accuracy = accuracy_score(y_test, y_pred)\n",
    "print(\"Accuracy:\", accuracy)"
   ]
  },
  {
   "cell_type": "code",
   "execution_count": null,
   "metadata": {},
   "outputs": [],
   "source": [
    "# Converting categorical features to numerics\n",
    "X_encoded = pd.get_dummies(X)\n",
    "print(\"First rows of categorical features AS NUMERICS: \\n\", X_encoded.head())\n"
   ]
  },
  {
   "cell_type": "code",
   "execution_count": null,
   "metadata": {},
   "outputs": [],
   "source": [
    "# Get Feature Importance From numerics\n",
    "\n",
    "# Get feature importances\n",
    "importances = decision_tree_pipeline.named_steps['classifier'].feature_importances_\n",
    "\n",
    "# Create a DataFrame to hold the feature importances\n",
    "feature_importances = pd.DataFrame({'Feature': X_encoded.columns, 'Importance': importances})\n",
    "print(\"Printing head of feature importances \\n\", feature_importances.head())"
   ]
  },
  {
   "cell_type": "code",
   "execution_count": null,
   "metadata": {},
   "outputs": [],
   "source": [
    "# Sort Feature Importance\n",
    "sorted_importances = feature_importances.sort_values(by='Importance', ascending=False)\n",
    "print(\"Printing first rows of feature importances - SORTED: \\n\", sorted_importances.head())\n",
    "\n",
    "# Create boxplot using feature importance\n",
    "barplot = sns.barplot(sorted_importances, x=\"Feature\", y=\"Importance\")\n",
    "\n",
    "# Rotate x-axis label\n",
    "barplot.set_xticklabels(barplot.get_xticklabels(), rotation=90, horizontalalignment='right')\n",
    "\n",
    "# Add title to plot\n",
    "plt.title(\"Feature Importance\")\n",
    "\n",
    "# Adjust layout to prevent labels from overlapping\n",
    "plt.tight_layout()\n",
    "\n",
    "# Show the plot\n",
    "plt.show()"
   ]
  }
 ],
 "metadata": {
  "kernelspec": {
   "display_name": "Python 3",
   "language": "python",
   "name": "python3"
  },
  "language_info": {
   "codemirror_mode": {
    "name": "ipython",
    "version": 3
   },
   "file_extension": ".py",
   "mimetype": "text/x-python",
   "name": "python",
   "nbconvert_exporter": "python",
   "pygments_lexer": "ipython3",
   "version": "3.12.3"
  }
 },
 "nbformat": 4,
 "nbformat_minor": 2
}
