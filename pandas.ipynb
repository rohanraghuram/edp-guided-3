{
 "cells": [
  {
   "cell_type": "code",
   "execution_count": 1,
   "metadata": {},
   "outputs": [
    {
     "name": "stdout",
     "output_type": "stream",
     "text": [
      "First few rows of the DataFrame:\n",
      "             timestamp  unit_id     unit_type empire_or_resistance  \\\n",
      "0  2025-03-17 16:28:52        1  stormtrooper           resistance   \n",
      "1  2025-03-17 16:28:51        2   tie_fighter               empire   \n",
      "2  2025-03-17 16:28:50        3  stormtrooper           resistance   \n",
      "3  2025-03-17 16:28:49        4  stormtrooper           resistance   \n",
      "4  2025-03-17 16:28:48        5   tie_fighter           resistance   \n",
      "\n",
      "   location_x  location_y  destination_x  destination_y homeworld  \n",
      "0           3           7              7              2   Tholoth  \n",
      "1           7           6              3              5     Skako  \n",
      "2           6           8              7              5  Alderaan  \n",
      "3           4           7              9              5   Iktotch  \n",
      "4           5          10             10              5  Dathomir  \n"
     ]
    }
   ],
   "source": [
    "import pandas as pd\n",
    "import numpy as np\n",
    "\n",
    "data = pd.read_csv('troop_movements.csv')\n",
    "\n",
    "print(\"First few rows of the DataFrame:\")\n",
    "print(data.head())"
   ]
  },
  {
   "cell_type": "code",
   "execution_count": 4,
   "metadata": {},
   "outputs": [
    {
     "name": "stdout",
     "output_type": "stream",
     "text": [
      "Counts using size():\n",
      " unit_type\n",
      "at-at                 118\n",
      "at-st                 117\n",
      "resistance_soldier    148\n",
      "stormtrooper          130\n",
      "tie_fighter           128\n",
      "tie_silencer          111\n",
      "unknown               135\n",
      "x-wing                113\n",
      "dtype: int64\n"
     ]
    }
   ],
   "source": [
    "unit_type_counts_size = data.groupby('unit_type').size()\n",
    "print(\"Counts of characters by unit_type\", unit_type_counts_size)\n"
   ]
  },
  {
   "cell_type": "code",
   "execution_count": 5,
   "metadata": {},
   "outputs": [
    {
     "name": "stdout",
     "output_type": "stream",
     "text": [
      "             timestamp  unit_id     unit_type empire_or_resistance  \\\n",
      "0  2025-03-17 16:28:52        1  stormtrooper           resistance   \n",
      "1  2025-03-17 16:28:51        2   tie_fighter               empire   \n",
      "2  2025-03-17 16:28:50        3  stormtrooper           resistance   \n",
      "3  2025-03-17 16:28:49        4  stormtrooper           resistance   \n",
      "4  2025-03-17 16:28:48        5   tie_fighter           resistance   \n",
      "\n",
      "   location_x  location_y  destination_x  destination_y homeworld  \\\n",
      "0           3           7              7              2   Tholoth   \n",
      "1           7           6              3              5     Skako   \n",
      "2           6           8              7              5  Alderaan   \n",
      "3           4           7              9              5   Iktotch   \n",
      "4           5          10             10              5  Dathomir   \n",
      "\n",
      "   is_resistance  \n",
      "0           True  \n",
      "1          False  \n",
      "2           True  \n",
      "3           True  \n",
      "4           True  \n"
     ]
    }
   ],
   "source": [
    "def is_resistance(row):\n",
    "        if row['empire_or_resistance'] == \"resistance\":\n",
    "            return True\n",
    "        else:\n",
    "            return False\n",
    "data['is_resistance'] = data.apply(is_resistance, axis=1)\n",
    "print(data.head())"
   ]
  }
 ],
 "metadata": {
  "kernelspec": {
   "display_name": "Python 3",
   "language": "python",
   "name": "python3"
  },
  "language_info": {
   "codemirror_mode": {
    "name": "ipython",
    "version": 3
   },
   "file_extension": ".py",
   "mimetype": "text/x-python",
   "name": "python",
   "nbconvert_exporter": "python",
   "pygments_lexer": "ipython3",
   "version": "3.12.3"
  }
 },
 "nbformat": 4,
 "nbformat_minor": 2
}
