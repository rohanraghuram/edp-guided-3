{
 "cells": [
  {
   "cell_type": "code",
   "execution_count": 1,
   "metadata": {},
   "outputs": [
    {
     "name": "stdout",
     "output_type": "stream",
     "text": [
      "First few rows of the DataFrame:\n",
      "             timestamp  unit_id           unit_type empire_or_resistance  \\\n",
      "0  2025-03-17 16:42:04        1              x-wing           resistance   \n",
      "1  2025-03-17 16:42:03        2  resistance_soldier           resistance   \n",
      "2  2025-03-17 16:42:02        3         tie_fighter           resistance   \n",
      "3  2025-03-17 16:42:01        4               at-at           resistance   \n",
      "4  2025-03-17 16:42:00        5        tie_silencer               empire   \n",
      "\n",
      "   location_x  location_y  destination_x  destination_y  homeworld  \n",
      "0           7          10              9              4     Ryloth  \n",
      "1           3           8              1             10  Malastare  \n",
      "2           9           4              2              8   Iridonia  \n",
      "3           9          10              1              7   Tatooine  \n",
      "4          10          10              3              8    Troiken  \n"
     ]
    }
   ],
   "source": [
    "# NOTE: Run 'python generate_data.py' before executing notebook to generate 'troop_movements.csv' file\n",
    "\n",
    "import pandas as pd\n",
    "import numpy as np\n",
    "\n",
    "data = pd.read_csv('troop_movements.csv')\n",
    "\n",
    "print(\"First few rows of the DataFrame:\")\n",
    "print(data.head())"
   ]
  },
  {
   "cell_type": "code",
   "execution_count": 2,
   "metadata": {},
   "outputs": [
    {
     "name": "stdout",
     "output_type": "stream",
     "text": [
      "\n",
      "Sorting the DataFrame by empire_or_resistance:\n",
      "  empire_or_resistance  count\n",
      "0           resistance    510\n",
      "1               empire    490\n"
     ]
    }
   ],
   "source": [
    "#Showing Counts of Empire vs. Resistance\n",
    "df_Count = pd.DataFrame(data)\n",
    "\n",
    "print(\"\\nSorting the DataFrame by empire_or_resistance:\")\n",
    "value_counts = df_Count['empire_or_resistance'].value_counts().reset_index()\n",
    "\n",
    "print(value_counts.head())"
   ]
  },
  {
   "cell_type": "code",
   "execution_count": 2,
   "metadata": {},
   "outputs": [
    {
     "name": "stdout",
     "output_type": "stream",
     "text": [
      "Counts using size():\n",
      " unit_type\n",
      "at-at                 118\n",
      "at-st                 117\n",
      "resistance_soldier    148\n",
      "stormtrooper          130\n",
      "tie_fighter           128\n",
      "tie_silencer          111\n",
      "unknown               135\n",
      "x-wing                113\n",
      "dtype: int64\n"
     ]
    }
   ],
   "source": [
    "unit_type_counts_size = data.groupby('unit_type').size()\n",
    "print(\"Counts of characters by unit_type\", unit_type_counts_size)\n"
   ]
  },
  {
   "cell_type": "code",
   "execution_count": 4,
   "metadata": {},
   "outputs": [
    {
     "name": "stdout",
     "output_type": "stream",
     "text": [
      "\n",
      "Sorting the DataFrame by empire_or_resistance:\n",
      "     homeworld  count\n",
      "0      Vulpter     15\n",
      "1  Aleen Minor     16\n",
      "2      Stewjon     17\n",
      "3      Quermia     18\n",
      "4        Kalee     19\n"
     ]
    }
   ],
   "source": [
    "#Showing Counts of Characters By Homeworld\n",
    "df_Count = pd.DataFrame(data)\n",
    "\n",
    "print(\"\\nSorting the DataFrame by homeworld:\")\n",
    "value_counts2 = df_Count['homeworld'].value_counts(ascending=True).reset_index()\n",
    "\n",
    "print(value_counts2.head())\n"
   ]
  },
  {
   "cell_type": "code",
   "execution_count": 5,
   "metadata": {},
   "outputs": [
    {
     "name": "stdout",
     "output_type": "stream",
     "text": [
      "             timestamp  unit_id     unit_type empire_or_resistance  \\\n",
      "0  2025-03-17 16:28:52        1  stormtrooper           resistance   \n",
      "1  2025-03-17 16:28:51        2   tie_fighter               empire   \n",
      "2  2025-03-17 16:28:50        3  stormtrooper           resistance   \n",
      "3  2025-03-17 16:28:49        4  stormtrooper           resistance   \n",
      "4  2025-03-17 16:28:48        5   tie_fighter           resistance   \n",
      "\n",
      "   location_x  location_y  destination_x  destination_y homeworld  \\\n",
      "0           3           7              7              2   Tholoth   \n",
      "1           7           6              3              5     Skako   \n",
      "2           6           8              7              5  Alderaan   \n",
      "3           4           7              9              5   Iktotch   \n",
      "4           5          10             10              5  Dathomir   \n",
      "\n",
      "   is_resistance  \n",
      "0           True  \n",
      "1          False  \n",
      "2           True  \n",
      "3           True  \n",
      "4           True  \n"
     ]
    }
   ],
   "source": [
    "def is_resistance(row):\n",
    "        if row['empire_or_resistance'] == \"resistance\":\n",
    "            return True\n",
    "        else:\n",
    "            return False\n",
    "data['is_resistance'] = data.apply(is_resistance, axis=1)\n",
    "print(data.head())"
   ]
  }
 ],
 "metadata": {
  "kernelspec": {
   "display_name": "Python 3",
   "language": "python",
   "name": "python3"
  },
  "language_info": {
   "codemirror_mode": {
    "name": "ipython",
    "version": 3
   },
   "file_extension": ".py",
   "mimetype": "text/x-python",
   "name": "python",
   "nbconvert_exporter": "python",
   "pygments_lexer": "ipython3",
   "version": "3.12.3"
  }
 },
 "nbformat": 4,
 "nbformat_minor": 2
}
